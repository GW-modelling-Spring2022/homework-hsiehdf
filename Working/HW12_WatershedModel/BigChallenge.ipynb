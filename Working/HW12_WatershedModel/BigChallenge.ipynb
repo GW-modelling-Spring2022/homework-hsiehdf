{
 "cells": [
  {
   "cell_type": "markdown",
   "metadata": {},
   "source": [
    "# Big Challenge - Diana Hsieh\n",
    "\n",
    "## Model Description \n",
    "This constructs a 2D steady state box model with a single stream reach\n",
    "#### Dimensions: \n",
    "- 50 by 50 by 3 \n",
    "- dx = dy = 1000 m\n",
    "- dz = 40m (bottom), 5m (middle), variable (look at excel)  \n",
    "\n",
    "#### Subsurface Properties: \n",
    "- Heterogeneous \n",
    "- K = 8.5 m/d bottom layer\n",
    "- K = 8.5 m/d middle layer in leftmost 20 columns\n",
    "- K = 0.0001 m/d in z direction in remaining columns\n",
    "- Porosity = 0.10\n",
    "- Specific yield = 0.10\n",
    "- Storage coefficient=0.0001  \n",
    "\n",
    "#### Stream Properties: \n",
    "- Inflow to first reach = 0 m3/d\n",
    "- Streambed slope = 0.0001 m/m\n",
    "- Streambed rough = 0.02377\n",
    "- Streambed width = 20 m\n",
    "- Streambed K = 0.01 m/day for the rows 0-19, 0.1 for rows 20-25, and 1 for the rest of the stream. \n",
    "- Streambed thickness = 1 m\n",
    "- Stream bottom depth = 7 m\n",
    "\n",
    "#### Boundary Conditions: \n",
    " - Right boundary is defined head representing a stream that runs 'down' the domain - in the direction of increasing row number.\n",
    " - Left boundary is a constant head representing a lake."
   ]
  },
  {
   "cell_type": "markdown",
   "metadata": {},
   "source": [
    "# Set up the environment"
   ]
  },
  {
   "cell_type": "code",
   "execution_count": 73,
   "metadata": {},
   "outputs": [],
   "source": [
    "import flopy\n",
    "import numpy as np\n",
    "import pandas as pd\n",
    "import matplotlib as mp\n",
    "import matplotlib.pyplot as plt\n",
    "from mpl_toolkits.mplot3d import Axes3D\n",
    "import flopy.utils.binaryfile as bf\n",
    "\n",
    "%matplotlib inline"
   ]
  },
  {
   "cell_type": "markdown",
   "metadata": {},
   "source": [
    "# User inputs"
   ]
  },
  {
   "cell_type": "code",
   "execution_count": 74,
   "metadata": {},
   "outputs": [
    {
     "name": "stderr",
     "output_type": "stream",
     "text": [
      "C:\\Users\\dnahh\\AppData\\Local\\Temp\\ipykernel_11344\\681030314.py:22: DeprecationWarning: `np.float` is a deprecated alias for the builtin `float`. To silence this warning, use `float` by itself. Doing this will not modify any behavior and is safe. If you specifically wanted the numpy scalar type, use `np.float64` here.\n",
      "Deprecated in NumPy 1.20; for more details and guidance: https://numpy.org/devdocs/release/1.20.0-notes.html#deprecations\n",
      "  ss = np.ones((nlay,nrow,ncol), dtype=np.float)        #define specific storage\n"
     ]
    }
   ],
   "source": [
    "modelname = \"bigchallenge_model\"\n",
    "moddir=\"C:/Users/dnahh/Desktop/GW_Modeling/homework-hsiehdf/Working/mf2005\" #Update this to find your modflow application\n",
    "m = flopy.modflow.Modflow(modelname, exe_name = moddir)\n",
    "\n",
    "nrow = 50\n",
    "ncol = 50\n",
    "dx = 1000\n",
    "dy = 1000\n",
    "nlay=3  #3 layers\n",
    "\n",
    "with open('BASE_top_elev.csv', 'r', encoding='utf-8-sig') as reader: \n",
    "    ztop = np.genfromtxt(reader, dtype=float, delimiter=',') # top elevation of top layer (import from csv file) (dim: nrow,ncol)\n",
    "# print(type(ztop))\n",
    "zbot = 0\n",
    "\n",
    "#dz = (ztop - zbot) / nlay\n",
    "#Lx = dx*ncol\n",
    "#Ly = dy*nrow\n",
    "\n",
    "K_horiz = 8.5    #assign horizontal hydraulic conductivity \n",
    "K_vert = 8.5    #assign vertical hydraulic conductivity (along z axis)\n",
    "ss = np.ones((nlay,nrow,ncol), dtype=np.float)        #define specific storage\n",
    "ss[:,:,:] = 0.0001 #Storage coeff\n",
    "n = 0.1 #porosity\n",
    "Sy = 0.1 #specific yield\n",
    "uncnf = 1\n",
    "\n",
    "## Setting up Layer properties\n",
    "\n",
    "botm = np.zeros((nlay,nrow,ncol)) # initialize array of zeros for bottom elevation for each model cell (dim: nlay,nrow,ncol)\n",
    "botm[1,:,:] = 40.                  # bottom elevation of middle layer (1) is 40 m\n",
    "botm[0,:,:] = 45.                  # bottom elevation of top layer (0) is 45 m \n",
    "\n",
    "## Make a arrays for the K values\n",
    "Kz = np.zeros((nlay,nrow,ncol))     # define an array of zeros the size of the model grid (nlay, nrow, ncol)\n",
    "Kz[:,:,:] = K_vert                   # assign the original value to the entire array\n",
    "Kz[1,:,21:-1] = 0.0001                   # Replace the K in the middle layer with the lower value for 30 R columns\n",
    "\n",
    "Kh = np.zeros((nlay,nrow,ncol))     # define an array of zeros the size of the model grid (nlay, nrow, ncol)\n",
    "Kh[:,:,:] = K_horiz                  # assign the original value to the entire array\n",
    "#Kh[1,:,21:-1] = 0.0001                    # Horizontal K does not change\n",
    "\n",
    "nper = 1\n",
    "steady = [True]\n",
    "\n",
    "#Create dis object\n",
    "dis = flopy.modflow.ModflowDis(model=m, nlay=nlay, nrow=nrow, ncol=ncol, \n",
    "                               delr=dx, delc=dy, top=ztop, botm=botm, \n",
    "                               itmuni = 4, lenuni = 2, \n",
    "                               nper=nper, steady=steady)   #Model unit meters (lenuni = 2) and days (itmuni = 4)\n",
    "\n",
    "\n"
   ]
  },
  {
   "cell_type": "markdown",
   "metadata": {},
   "source": [
    "# Seting up Boundary Conditions"
   ]
  },
  {
   "cell_type": "code",
   "execution_count": 75,
   "metadata": {},
   "outputs": [],
   "source": [
    "#Create bas object\n",
    "# Our Boundary Conditions \n",
    "ibound = np.ones((nlay, nrow, ncol), dtype=np.int32)\n",
    "ibound[:, :, 0] = 0 # whole left side is no flow\n",
    "ibound[:, :, -1] = -1 # whole right side constant head\n",
    "ibound[:, 0, :] = 0 # first row (top of domain) is no flow\n",
    "ibound[:, -1, :] = 0 # last row (bottom of domain) is no flow\n",
    "for i in range (0,6):\n",
    "    ibound[0:, i, 0:6-i] = 0\n",
    "for i in range (0,8):\n",
    "    ibound[1, i, 0:8-i] = 0\n",
    "for i in range (0,10):\n",
    "    ibound[2, i, 0:10-i] = 0\n",
    "for i in range (0,6):\n",
    "    ibound[0:, 44+i, 0:1+i] = 0\n",
    "for i in range (0,8):\n",
    "    ibound[1, 42+i, 0:1+i] = 0\n",
    "for i in range (0,10):\n",
    "    ibound[2, 40+i, 0:1+1] = 0\n",
    "\n",
    "#setup initial heads as 1 everywhere except on the boundaries\n",
    "H_init = np.ones((nlay, nrow, ncol), dtype=np.float32)  #float array (i.e. decimal), sets all heads to 1.0\n",
    "h_right = 70\n",
    "H_init[:, :, :] = h_right    #initialize the entire domain to the right head value\n",
    "\n",
    "\n",
    "bas = flopy.modflow.ModflowBas(m, ibound=ibound, strt=H_init)\n",
    "\n",
    "#Numerical solver - pcg\n",
    "pcg = flopy.modflow.ModflowPcg(model=m)\n",
    "\n",
    "#LPF object\n",
    "#hk = np.ones((nlay,nrow,ncol), dtype=np.float32)      #defining conductivity in m/d\n",
    "#vk = np.ones((nlay,nrow,ncol), dtype=np.float32)\n",
    "\n",
    "# vk = vk/10\n",
    "# hk[:,0:25,:] = hk[:,0:25,:]*10\n",
    "# vk = vk*10\n",
    "\n",
    "lpf = flopy.modflow.ModflowLpf(m, laytyp=uncnf, hk=Kh, \n",
    "                               vka=Kz, ss=ss,\n",
    "                               sy=Sy,storagecoefficient=True, ipakcb=53) \n",
    "\n",
    "\n",
    "# Rch object\n",
    "recharge = 4e-5 #m/day\n",
    "rech_zone = np.zeros((nrow,ncol))               #define an array of zeros of dim (nrow,ncol)\n",
    "rech_zone[:,0:16]= recharge\n",
    "#rch = flopy.modflow.mfrch.ModflowRch(model=m, rech=rech_zone, ipakcb=53)     #create rch object\n",
    "\n",
    "#create  output control object \n",
    "spd = {(0, 0): ['print head', 'print budget', 'save head', 'save budget']}\n",
    "oc = flopy.modflow.ModflowOc(model=m, stress_period_data=spd, compact=True)\n",
    "\n",
    "#ET\n",
    "ET_zone = np.zeros((1,nrow,ncol))     # define an array of zeroes the size of the model grid\n",
    "ET_zone[:,:,25:-1] = 1e-5  # ET only on right half of domain\n",
    "ET_zone[:,22:29,:] = 5e-4  #stream ET\n",
    "\n",
    "extinction_depth = 1 #extinction depth is the depth where if our water table is below that, our ET will be ZERO #between surface and extinction depth is just a linear interpolation\n",
    "\n",
    "\n",
    "evt = flopy.modflow.mfevt.ModflowEvt(model=m, surf=ztop, evtr=ET_zone, exdp=extinction_depth, ipakcb=53) #ipakcb makes sure it applies to water balance of all cells, default is 0, 53 is a safe integer to choose, some are taken \n",
    "\n",
    "#print(strt)\n",
    "#print(ET_zone)\n",
    "#print(rech_zone)"
   ]
  },
  {
   "cell_type": "markdown",
   "metadata": {},
   "source": [
    "# Setup the stream! Define STR object"
   ]
  },
  {
   "cell_type": "code",
   "execution_count": 76,
   "metadata": {},
   "outputs": [],
   "source": [
    "# User inputs:\n",
    "k_strbott = 1.36 * K_horiz                      #river bottom hydraulic conductivity in f/d\n",
    "sed_thick = 1                      #thickness of riverbed sediment in f\n",
    "slope = 0.001                        #slope of streambed (m/m)\n",
    "rough = 0.04                         #roughness of streambed\n",
    "width = 1                           #x-sectional width of channel (m)\n",
    "Flow_into_the_1st_reach = 0    # m^3/day\n",
    "Stage_above_datum = 0.5 # m^3/day; top of streambed is at 8 m (incl 1 m of streambed thickness)\n",
    "\n",
    "# str settings\n",
    "set_icalc = 0                   #1 if the stage is to be calculated based on flow, otherwise specify below\n",
    "                            # Set icalc = 0 bc stage doesn't change\n",
    "str_spd1 = []                      #create list to store all river cells for stress period 1\n",
    "const = 86400.0                      #multiplication constant for m3/day - see documentation for other units\n",
    "istcb2 = 53                          #save outflows to cbb file\n",
    "\n",
    "# calculated values\n",
    "cond = k_strbott*(dy)*(dx)/(sed_thick) #river bed conductance in f^2/d\n",
    "cond_vals = np.ones(nrow)\n",
    "#cond_vals[0:20] = cond/100\n",
    "#cond_vals[21:26] = cond/10\n",
    "#cond_vals[27:-1] = cond\n",
    "\n",
    "\n",
    "str_stage = Stage_above_datum\n",
    "\n",
    "#if set_icalc > 0:      #Calculating the stage for graphing using Manning formula\n",
    "#    str_stage = str_top + ((Flow_into_the_1st_reach*rough)/(const*width*(slope**0.5)))**0.6   \n",
    "#    print(\"Calculated stage at inflow =\", str_stage)\n",
    "\n",
    "#Adding str package with only 1 stress period and one segment\n",
    "strd = {}  \n",
    "strspd = []\n",
    "for y in range(ncol):\n",
    "    str_bott = ztop[24,y]-2  #river bottom is defined as the ztop at row 25 minus 2\n",
    "    str_top = str_bott+sed_thick #stream top is stream bottom + sed thickness\n",
    "    add = [0, nrow/2, y, 1, y+1, Flow_into_the_1st_reach, str_stage, cond_vals[y], str_bott, str_top, width, slope, rough]\n",
    "    strspd.append(add)\n",
    "strd[0]=strspd   \n",
    "seg_info = [0, 0, 0, 0, 0, 0, 0, 0, 0, 0, 0]   #create segment info array - all zeros since only one segment\n",
    "str_segd = {0: seg_info}                       #create dict of segment info keyed to stress periods\n",
    "\n",
    "strm = flopy.modflow.mfstr.ModflowStr(m, mxacts=75, nss=1, ntrib=0, ndiv=0,icalc= set_icalc, const=const, ipakcb=53,  istcb2=istcb2, dtype=None,\n",
    "        stress_period_data=strd, segment_data=str_segd, extension='str') \n",
    "\n",
    "#print(cond_vals)\n",
    "\n"
   ]
  },
  {
   "cell_type": "markdown",
   "metadata": {},
   "source": [
    "# Plot model grid and boundary conditions"
   ]
  },
  {
   "cell_type": "code",
   "execution_count": 77,
   "metadata": {},
   "outputs": [
    {
     "data": {
      "image/png": "[encoded data removed]",
      "text/plain": [
       "<Figure size 432x288 with 1 Axes>"
      ]
     },
     "metadata": {
      "needs_background": "light"
     },
     "output_type": "display_data"
    }
   ],
   "source": [
    "modelmap = flopy.plot.PlotMapView(model=m, layer=0)\n",
    "grid = modelmap.plot_grid()\n",
    "ib = modelmap.plot_ibound()\n",
    "plt.xlabel('Lx (m)',fontsize = 14)\n",
    "plt.ylabel('Ly (m)',fontsize = 14)\n",
    "plt.title('Ibound', fontsize = 15, fontweight = 'bold')\n",
    "#wel_m = modelmap.plot_bc(\"WEL\")\n",
    "str_m = modelmap.plot_bc(\"STR\")\n",
    "plt.legend(handles=[mp.patches.Patch(color='purple',label='Stream',ec='black'),\n",
    "                   mp.patches.Patch(color='blue',label='Const Head Boundary',ec='black'),\n",
    "                   mp.patches.Patch(color='white',label='Active Cell',ec='black'),\n",
    "                   mp.patches.Patch(color='black',label='Inactive Cell',ec='black')],\n",
    "                   bbox_to_anchor=(1.8,1.0))\n",
    "plt.show(modelmap)"
   ]
  },
  {
   "cell_type": "markdown",
   "metadata": {},
   "source": [
    "# Write MODFLOW input files and run the model"
   ]
  },
  {
   "cell_type": "code",
   "execution_count": 78,
   "metadata": {},
   "outputs": [
    {
     "name": "stdout",
     "output_type": "stream",
     "text": [
      "FloPy is using the following executable to run the model: C:/Users/dnahh/Desktop/GW_Modeling/homework-hsiehdf/Working/mf2005.exe\n",
      "\n",
      "                                  MODFLOW-2005     \n",
      "    U.S. GEOLOGICAL SURVEY MODULAR FINITE-DIFFERENCE GROUND-WATER FLOW MODEL\n",
      "                             Version 1.11.00 8/8/2013                        \n",
      "\n",
      " Using NAME file: bigchallenge_model.nam \n",
      " Run start date and time (yyyy/mm/dd hh:mm:ss): 2022/04/19  8:46:03\n",
      "\n",
      " Solving:  Stress period:     1    Time step:     1    Ground-Water Flow Eqn.\n",
      " Run end date and time (yyyy/mm/dd hh:mm:ss): 2022/04/19  8:46:03\n",
      " Elapsed run time:  0.045 Seconds\n",
      "\n",
      "  Normal termination of simulation\n"
     ]
    }
   ],
   "source": [
    "m.write_input()\n",
    "\n",
    "success, mfoutput = m.run_model(pause=False, report=True)\n",
    "if not success:\n",
    "    raise Exception('MODFLOW did not terminate normally.')"
   ]
  },
  {
   "cell_type": "markdown",
   "metadata": {},
   "source": [
    "# Plot stream related results "
   ]
  },
  {
   "cell_type": "code",
   "execution_count": 79,
   "metadata": {},
   "outputs": [
    {
     "name": "stdout",
     "output_type": "stream",
     "text": [
      "[-999.99, -999.99, -999.99, -999.99, -999.99, -999.99, -999.99, -999.99, -999.99, -999.99, -999.99, -999.99, -999.99, -999.99, -999.99, -999.99, -999.99, -999.99, -999.99, -999.99, -999.99, -999.99, -999.99, -999.99, -999.99, -999.99, -999.99, -999.99, -999.99, -999.99, -999.99, -999.99, -999.99, -999.99, -999.99, -999.99, -999.99, -999.99, -999.99, -999.99, -999.99, -999.99, -999.99, -999.99, -999.99, -999.99, -999.99, -999.99, -999.99, -999.99]\n"
     ]
    },
    {
     "data": {
      "image/png": "[encoded data removed]",
      "text/plain": [
       "<Figure size 864x360 with 3 Axes>"
      ]
     },
     "metadata": {
      "needs_background": "light"
     },
     "output_type": "display_data"
    }
   ],
   "source": [
    "#####################################################################\n",
    "# Reading budget and head output files\n",
    "budgobj1 = bf.CellBudgetFile(modelname+'.cbc')   #reads the cell budget file    \n",
    "#print(budgobj1.get_unique_record_names())\n",
    "frf = budgobj1.get_data(text='flow right face', totim=1.0) #returns an array of flow rates for right face of cells\n",
    "fff = budgobj1.get_data(text='flow front face', totim=1.0) #returns an array of flow rates for front face of cells \n",
    "leak = budgobj1.get_data(text='STREAM LEAKAGE', totim=1.0) \n",
    "\n",
    "str_outflow = budgobj1.get_data(text='STREAM FLOW OUT', totim=1.0) \n",
    "ch_flow = budgobj1.get_data(text='CONSTANT HEAD', totim=1.0) \n",
    "\n",
    "headobj = flopy.utils.binaryfile.HeadFile(modelname+'.hds')\n",
    "head = headobj.get_data(totim=1.0)\n",
    "\n",
    "#####################################################################\n",
    "#Preparing variables for plotting \n",
    "leakage = leak[0]\n",
    "str_outflow = str_outflow[0]\n",
    "str_inflow = str_outflow[:nrow-1]\n",
    "str_inflow = str_inflow['q']\n",
    "str_inflow = str_inflow.tolist()\n",
    "str_inflow.insert(0, Flow_into_the_1st_reach) \n",
    "reach = np.arange(0,nrow,1) + 1\n",
    "head_reach=[]\n",
    "x_str = strspd[0][2]\n",
    "x_str=int(x_str)\n",
    "for i in range(nrow):\n",
    "    head_reach.append(head[0][i][x_str])\n",
    "\n",
    "#####################################################################\n",
    "# Plotting reach wise water budget\n",
    "f, (ax1, ax2, ax3) = plt.subplots(1, 3, figsize=(12, 5))\n",
    "#ax.set_aspect('equal')\n",
    "ax1.set_title('Flows')\n",
    "# ax1.plot(reach, leakage['q'], lw=3, label=\"Leaked to Aquifer\", marker='o') \n",
    "ax1.plot(reach, str_outflow['q'], label=\"Flow out\", marker='o') \n",
    "ax1.plot(reach, str_inflow, color='red', label=\"Flow in\", linestyle='--', marker='o') \n",
    "# ax1.axhline(y=0,  color='black', linestyle='--')\n",
    "ax1.set_xlabel('Row Number')\n",
    "#ax1.set_xticks(reach)\n",
    "ax1.set_ylabel('Flow (m^3/d)')\n",
    "ax1.legend()\n",
    "\n",
    "#####################################################################\n",
    "# Plotting reach wise heads\n",
    "ax2.set_title('Heads')\n",
    "ax2.axhline(y=str_stage,  color='blue', label=\"Stage Head\")\n",
    "ax2.plot(reach, head_reach, color='red', label=\"Head in the Cell\", marker='o') \n",
    "ax2.axhline(y=str_top,  color='tan', linestyle='--', label=\"Streambed Top\")\n",
    "ax2.axhline(y=str_bott,  color='brown', linestyle='--', label=\"Streambed Bottom\")\n",
    "ax2.set_xlabel('Row Number')\n",
    "#ax2.set_xticks(reach)\n",
    "ax2.set_ylabel('Head (m)')\n",
    "ax2.legend()\n",
    "\n",
    "print (head_reach)"
   ]
  },
  {
   "cell_type": "markdown",
   "metadata": {},
   "source": [
    "# Plot head distribution"
   ]
  },
  {
   "cell_type": "markdown",
   "metadata": {},
   "source": [
    " "
   ]
  },
  {
   "cell_type": "code",
   "execution_count": 80,
   "metadata": {},
   "outputs": [
    {
     "name": "stderr",
     "output_type": "stream",
     "text": [
      "C:\\Users\\dnahh\\miniconda3\\envs\\gwmod\\lib\\site-packages\\flopy\\plot\\map.py:819: DeprecationWarning: plot_discharge() has been deprecated and will be replaced in version 3.3.5. Use plot_vector() instead, which should follow after postprocessing.get_specific_discharge()\n",
      "  warnings.warn(\n",
      "C:\\Users\\dnahh\\miniconda3\\envs\\gwmod\\lib\\site-packages\\flopy\\plot\\plotutil.py:1630: DeprecationWarning: centered_specific_discharge() has been deprecated and will be removed in version 3.3.5. Use postprocessing.get_specific_discharge() instead.\n",
      "  warnings.warn(\n"
     ]
    },
    {
     "data": {
      "image/png": "[encoded data removed]",
      "text/plain": [
       "<Figure size 432x288 with 2 Axes>"
      ]
     },
     "metadata": {
      "needs_background": "light"
     },
     "output_type": "display_data"
    }
   ],
   "source": [
    "#####################################################################\n",
    "# Plotting heads and flow arrows\n",
    "plt.figure() \n",
    "modelmap = flopy.plot.PlotMapView(model=m, layer=0) #use modelmap to attach plot to model\n",
    "# grid = modelmap.plot_grid() #plot model grid\n",
    "contour_levels = np.linspace(head[0].min(),head[0].max(),15) #set contour levels for contouring head\n",
    "head_contours = modelmap.contour_array(head, levels=contour_levels) #create head contours\n",
    "flows = modelmap.plot_discharge(frf[0], fff[0], head=head) #create discharge arrows\n",
    "#display parameters\n",
    "plt.xlabel('Lx (m)',fontsize = 14)\n",
    "plt.ylabel('Ly (m)',fontsize = 14)\n",
    "#plt.title('Steady-State Pumping, Flow(f^3/d) and Head(m) Results', fontsize = 15, fontweight = 'bold')\n",
    "plt.colorbar(head_contours, aspect=5)\n",
    "plt.show(modelmap)"
   ]
  },
  {
   "cell_type": "markdown",
   "metadata": {},
   "source": [
    "# Yes Town No Ag"
   ]
  },
  {
   "cell_type": "code",
   "execution_count": 81,
   "metadata": {},
   "outputs": [
    {
     "name": "stderr",
     "output_type": "stream",
     "text": [
      "C:\\Users\\dnahh\\AppData\\Local\\Temp\\ipykernel_11344\\2799402881.py:23: DeprecationWarning: `np.float` is a deprecated alias for the builtin `float`. To silence this warning, use `float` by itself. Doing this will not modify any behavior and is safe. If you specifically wanted the numpy scalar type, use `np.float64` here.\n",
      "Deprecated in NumPy 1.20; for more details and guidance: https://numpy.org/devdocs/release/1.20.0-notes.html#deprecations\n",
      "  ss = np.ones((nlay,nrow,ncol), dtype=np.float)        #define specific storage\n"
     ]
    }
   ],
   "source": [
    "modelname = \"YTNA_model\"\n",
    "moddir=\"C:/Users/dnahh/Desktop/GW_Modeling/homework-hsiehdf/Working/mf2005\" #Update this to find your modflow application\n",
    "m2 = flopy.modflow.Modflow(modelname, exe_name = moddir)\n",
    "\n",
    "\n",
    "nrow = 50\n",
    "ncol = 50\n",
    "dx = 1000\n",
    "dy = 1000\n",
    "nlay=3  #3 layers\n",
    "\n",
    "with open('BASE_top_elev.csv', 'r', encoding='utf-8-sig') as reader: \n",
    "    ztop = np.genfromtxt(reader, dtype=float, delimiter=',') # top elevation of top layer (import from csv file) (dim: nrow,ncol)\n",
    "# print(type(ztop))\n",
    "zbot = 0\n",
    "\n",
    "#dz = (ztop - zbot) / nlay\n",
    "#Lx = dx*ncol\n",
    "#Ly = dy*nrow\n",
    "\n",
    "K_horiz = 8.5    #assign horizontal hydraulic conductivity \n",
    "K_vert = 8.5    #assign vertical hydraulic conductivity (along z axis)\n",
    "ss = np.ones((nlay,nrow,ncol), dtype=np.float)        #define specific storage\n",
    "ss[:,:,:] = 0.0001 #Storage coeff\n",
    "n = 0.1 #porosity\n",
    "Sy = 0.1 #specific yield\n",
    "uncnf = 1\n",
    "\n",
    "## Setting up Layer properties\n",
    "\n",
    "botm = np.zeros((nlay,nrow,ncol)) # initialize array of zeros for bottom elevation for each model cell (dim: nlay,nrow,ncol)\n",
    "botm[1,:,:] = 40.                  # bottom elevation of middle layer (1) is 40 m\n",
    "botm[0,:,:] = 45.                  # bottom elevation of top layer (0) is 45 m \n",
    "\n",
    "## Make a arrays for the K values\n",
    "Kz = np.zeros((nlay,nrow,ncol))     # define an array of zeros the size of the model grid (nlay, nrow, ncol)\n",
    "Kz[:,:,:] = K_vert                   # assign the original value to the entire array\n",
    "Kz[1,:,21:-1] = 0.0001                   # Replace the K in the middle layer with the lower value for 30 R columns\n",
    "\n",
    "Kh = np.zeros((nlay,nrow,ncol))     # define an array of zeros the size of the model grid (nlay, nrow, ncol)\n",
    "Kh[:,:,:] = K_horiz                  # assign the original value to the entire array\n",
    "#Kh[1,:,21:-1] = 0.0001                    # Horizontal K does not change\n",
    "\n",
    "nper = 1\n",
    "steady = [True]\n",
    "\n",
    "#Create dis object\n",
    "dis = flopy.modflow.ModflowDis(model=m2, nlay=nlay, nrow=nrow, ncol=ncol, \n",
    "                               delr=dx, delc=dy, top=ztop, botm=botm, \n",
    "                               itmuni = 4, lenuni = 2, \n",
    "                               nper=nper, steady=steady)   #Model unit meters (lenuni = 2) and days (itmuni = 4)"
   ]
  },
  {
   "cell_type": "code",
   "execution_count": 89,
   "metadata": {},
   "outputs": [
    {
     "name": "stdout",
     "output_type": "stream",
     "text": [
      "[2, 21, 38, -1500]\n",
      "Well 1 [layer, row, column, flux]: \n",
      " [2, 21, 38, -1500]\n"
     ]
    }
   ],
   "source": [
    "#Create bas object\n",
    "# Our Boundary Conditions \n",
    "ibound = np.ones((nlay, nrow, ncol), dtype=np.int32)\n",
    "ibound[:, :, 0] = 0 # whole left side is no flow\n",
    "ibound[:, :, -1] = -1 # whole right side constant head\n",
    "ibound[:, 0, :] = 0 # first row (top of domain) is no flow\n",
    "ibound[:, -1, :] = 0 # last row (bottom of domain) is no flow\n",
    "for i in range (0,6):\n",
    "    ibound[0:, i, 0:6-i] = 0\n",
    "for i in range (0,8):\n",
    "    ibound[1, i, 0:8-i] = 0\n",
    "for i in range (0,10):\n",
    "    ibound[2, i, 0:10-i] = 0\n",
    "for i in range (0,6):\n",
    "    ibound[0:, 44+i, 0:1+i] = 0\n",
    "for i in range (0,8):\n",
    "    ibound[1, 42+i, 0:1+i] = 0\n",
    "for i in range (0,10):\n",
    "    ibound[2, 40+i, 0:1+1] = 0\n",
    "\n",
    "#setup initial heads as 1 everywhere except on the boundaries\n",
    "H_init = np.ones((nlay, nrow, ncol), dtype=np.float32)  #float array (i.e. decimal), sets all heads to 1.0\n",
    "h_right = 70\n",
    "H_init[:, :, :] = h_right    #initialize the entire domain to the right head value\n",
    "\n",
    "\n",
    "bas = flopy.modflow.ModflowBas(m2, ibound=ibound, strt=H_init)\n",
    "\n",
    "#Numerical solver - pcg\n",
    "pcg = flopy.modflow.ModflowPcg(model=m2)\n",
    "\n",
    "#LPF object\n",
    "#hk = np.ones((nlay,nrow,ncol), dtype=np.float32)      #defining conductivity in m/d\n",
    "#vk = np.ones((nlay,nrow,ncol), dtype=np.float32)\n",
    "\n",
    "# vk = vk/10\n",
    "# hk[:,0:25,:] = hk[:,0:25,:]*10\n",
    "# vk = vk*10\n",
    "\n",
    "lpf = flopy.modflow.ModflowLpf(m2, laytyp=uncnf, hk=Kh, \n",
    "                               vka=Kz, ss=ss,\n",
    "                               sy=Sy,storagecoefficient=True, ipakcb=53) \n",
    "\n",
    "\n",
    "# Rch object\n",
    "recharge = 4e-5 #m/day\n",
    "rech_zone = np.zeros((nrow,ncol))               #define an array of zeros of dim (nrow,ncol)\n",
    "rech_zone[:,0:16]= recharge\n",
    "#rch = flopy.modflow.mfrch.ModflowRch(model=m, rech=rech_zone, ipakcb=53)     #create rch object\n",
    "\n",
    "#create  output control object \n",
    "spd = {(0, 0): ['print head', 'print budget', 'save head', 'save budget']}\n",
    "oc = flopy.modflow.ModflowOc(model=m2, stress_period_data=spd, compact=True)\n",
    "\n",
    "#ET\n",
    "ET_zone = np.zeros((1,nrow,ncol))     # define an array of zeroes the size of the model grid\n",
    "ET_zone[:,:,25:-1] = 1e-5  # ET only on right half of domain\n",
    "ET_zone[:,22:29,:] = 5e-4  #stream ET\n",
    "\n",
    "extinction_depth = 1 #extinction depth is the depth where if our water table is below that, our ET will be ZERO #between surface and extinction depth is just a linear interpolation\n",
    "\n",
    "\n",
    "evt = flopy.modflow.mfevt.ModflowEvt(model=m2, surf=ztop, evtr=ET_zone, exdp=extinction_depth, ipakcb=53) #ipakcb makes sure it applies to water balance of all cells, default is 0, 53 is a safe integer to choose, some are taken \n",
    "\n",
    "\n",
    "#Well\n",
    "pumping = -1500 #m3/day  #given\n",
    "well_loc = (2,21,38) #Well loc should be layer, row, column\n",
    "well_1 = [i for i in well_loc] + [pumping]\n",
    "print(well_1)\n",
    "print(\"Well 1 [layer, row, column, flux]: \\n\", well_1)\n",
    "wel_spd = {0: [well_1]} #putting the well in the bottom layer\n",
    "wel = flopy.modflow.ModflowWel(model=m2, stress_period_data=wel_spd)"
   ]
  },
  {
   "cell_type": "markdown",
   "metadata": {},
   "source": [
    "Stream Package"
   ]
  },
  {
   "cell_type": "code",
   "execution_count": 83,
   "metadata": {},
   "outputs": [],
   "source": [
    "# User inputs:\n",
    "k_strbott = 1.36 * K_horiz                      #river bottom hydraulic conductivity in f/d\n",
    "sed_thick = 1                      #thickness of riverbed sediment in f\n",
    "slope = 0.001                        #slope of streambed (m/m)\n",
    "rough = 0.04                         #roughness of streambed\n",
    "width = 1                           #x-sectional width of channel (m)\n",
    "Flow_into_the_1st_reach = 0    # m^3/day\n",
    "Stage_above_datum = 0.5 # m^3/day; top of streambed is at 8 m (incl 1 m of streambed thickness)\n",
    "\n",
    "# str settings\n",
    "set_icalc = 0                   #1 if the stage is to be calculated based on flow, otherwise specify below\n",
    "                            # Set icalc = 0 bc stage doesn't change\n",
    "str_spd1 = []                      #create list to store all river cells for stress period 1\n",
    "const = 86400.0                      #multiplication constant for m3/day - see documentation for other units\n",
    "istcb2 = 53                          #save outflows to cbb file\n",
    "\n",
    "# calculated values\n",
    "cond = k_strbott*(dy)*(dx)/(sed_thick) #river bed conductance in f^2/d\n",
    "cond_vals = np.ones(nrow)\n",
    "#cond_vals[0:20] = cond/100\n",
    "#cond_vals[21:26] = cond/10\n",
    "#cond_vals[27:-1] = cond\n",
    "\n",
    "\n",
    "str_stage = Stage_above_datum\n",
    "\n",
    "#if set_icalc > 0:      #Calculating the stage for graphing using Manning formula\n",
    "#    str_stage = str_top + ((Flow_into_the_1st_reach*rough)/(const*width*(slope**0.5)))**0.6   \n",
    "#    print(\"Calculated stage at inflow =\", str_stage)\n",
    "\n",
    "#Adding str package with only 1 stress period and one segment\n",
    "strd = {}  \n",
    "strspd = []\n",
    "for y in range(ncol):\n",
    "    str_bott = ztop[24,y]-2  #river bottom is defined as the ztop at row 25 minus 2\n",
    "    str_top = str_bott+sed_thick #stream top is stream bottom + sed thickness\n",
    "    add = [0, nrow/2, y, 1, y+1, Flow_into_the_1st_reach, str_stage, cond_vals[y], str_bott, str_top, width, slope, rough]\n",
    "    strspd.append(add)\n",
    "strd[0]=strspd   \n",
    "seg_info = [0, 0, 0, 0, 0, 0, 0, 0, 0, 0, 0]   #create segment info array - all zeros since only one segment\n",
    "str_segd = {0: seg_info}                       #create dict of segment info keyed to stress periods\n",
    "\n",
    "strm = flopy.modflow.mfstr.ModflowStr(m2, mxacts=75, nss=1, ntrib=0, ndiv=0,icalc= set_icalc, const=const, ipakcb=53,  istcb2=istcb2, dtype=None,\n",
    "        stress_period_data=strd, segment_data=str_segd, extension='str') \n",
    "\n",
    "#print(cond_vals)"
   ]
  },
  {
   "cell_type": "markdown",
   "metadata": {},
   "source": [
    "Plan view of domain"
   ]
  },
  {
   "cell_type": "code",
   "execution_count": 90,
   "metadata": {},
   "outputs": [
    {
     "data": {
      "image/png": "[encoded data removed]",
      "text/plain": [
       "<Figure size 432x288 with 1 Axes>"
      ]
     },
     "metadata": {
      "needs_background": "light"
     },
     "output_type": "display_data"
    }
   ],
   "source": [
    "modelmap = flopy.plot.PlotMapView(model=m2, layer=2)\n",
    "grid = modelmap.plot_grid()\n",
    "ib = modelmap.plot_ibound()\n",
    "plt.xlabel('Lx (m)',fontsize = 14)\n",
    "plt.ylabel('Ly (m)',fontsize = 14)\n",
    "plt.title('Ibound', fontsize = 15, fontweight = 'bold')\n",
    "wel_m = modelmap.plot_bc(\"WEL\")\n",
    "str_m = modelmap.plot_bc(\"STR\")\n",
    "plt.legend(handles=[mp.patches.Patch(color='purple',label='Stream',ec='black'),\n",
    "                   mp.patches.Patch(color='blue',label='Const Head Boundary',ec='black'),\n",
    "                   mp.patches.Patch(color='white',label='Active Cell',ec='black'),\n",
    "                   mp.patches.Patch(color='red',label='well',ec='black'),\n",
    "                   mp.patches.Patch(color='black',label='Inactive Cell',ec='black')],\n",
    "                   bbox_to_anchor=(1.8,1.0))\n",
    "plt.show(modelmap)"
   ]
  }
 ],
 "metadata": {
  "kernelspec": {
   "display_name": "Python 3 (ipykernel)",
   "language": "python",
   "name": "python3"
  },
  "language_info": {
   "codemirror_mode": {
    "name": "ipython",
    "version": 3
   },
   "file_extension": ".py",
   "mimetype": "text/x-python",
   "name": "python",
   "nbconvert_exporter": "python",
   "pygments_lexer": "ipython3",
   "version": "3.8.12"
  }
 },
 "nbformat": 4,
 "nbformat_minor": 2
}
